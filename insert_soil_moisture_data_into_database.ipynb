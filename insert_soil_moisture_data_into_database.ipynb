{
 "cells": [
  {
   "cell_type": "markdown",
   "id": "77550cb7-571f-4711-8881-e03fb23f092d",
   "metadata": {},
   "source": [
    "## Bulk insert in situ soil moisture data into database</br>\n",
    "\n",
    "This notebook shows how to read data from a text file in json format into a Pandas dataframe and then bulk insert it into a table in a Postgres database.\n",
    "\n",
    "Brandi Downs, October 2024"
   ]
  },
  {
   "cell_type": "code",
   "execution_count": null,
   "id": "f5b857c3-77dc-4b6b-96f5-43446117d9fd",
   "metadata": {
    "tags": []
   },
   "outputs": [],
   "source": [
    "import psycopg2\n",
    "import configparser\n",
    "import getpass\n",
    "import pandas as pd\n",
    "import os\n",
    "import time\n",
    "from io import StringIO\n",
    "import glob\n",
    "import numpy as np\n",
    "import json\n",
    "import csv"
   ]
  },
  {
   "cell_type": "code",
   "execution_count": null,
   "id": "5d6f04c8-e29b-441e-893f-8a349827484f",
   "metadata": {},
   "outputs": [],
   "source": [
    "# Read in data\n",
    "fpath = '/home/jovyan/sds-ondemand/data/inundation/staging/'\n",
    "files = sorted(glob.glob(fpath + '/*.txt'))\n",
    "files"
   ]
  },
  {
   "cell_type": "code",
   "execution_count": null,
   "id": "ec0b41c9-a193-40b0-bc1f-c4d9c874f4e7",
   "metadata": {},
   "outputs": [],
   "source": [
    "pd.set_option('display.max_colwidth', None)\n",
    "temp = []\n",
    "with open(files[1], 'r') as file:\n",
    "    for line in file:\n",
    "        temp.append(json.loads(line.strip()))\n",
    "new_measurements = pd.json_normalize(temp, sep='_')\n",
    "new_measurements_original = new_measurements.copy()\n",
    "new_measurements['Timestamp'] = pd.to_datetime(new_measurements['Timestamp'])\n",
    "new_measurements"
   ]
  },
  {
   "cell_type": "markdown",
   "id": "eb83dec7-c1b4-4c48-8b7e-80cf07d80a3e",
   "metadata": {},
   "source": [
    "To connect to the database, you need the database connection properties stored in a configuration file.</br> \n",
    "The configuration file should look like this and be saved in .ini format:\n",
    "\n",
    "[DEFAULT] </br>\n",
    "dbname=database_name </br>\n",
    "host=host_address </br>\n",
    "port=port_number </br>\n",
    "\n",
    "where database_name, host_address, and port_number are replaced by their values without quotations.</br>\n",
    "</br>\n",
    "<font size=4>Example contents of <tt>calvaldb_config.ini</tt>:</font></br>\n",
    "[DEFAULT] </br>\n",
    "dbname=my_db </br>\n",
    "host=nisar-dev.abcdef123456.us-west-2.rds.amazonaws.com </br>\n",
    "port=1234 </br>"
   ]
  },
  {
   "cell_type": "code",
   "execution_count": null,
   "id": "cff499b9-b40e-4e32-a3c7-2bdc60c01717",
   "metadata": {
    "tags": []
   },
   "outputs": [],
   "source": [
    "# Establish a connection to the database\n",
    "\n",
    "config_file = '~/sds-ondemand/calvaldb_config.ini'\n",
    "\n",
    "def get_config_data():\n",
    "    \n",
    "    file = os.path.expanduser(config_file)\n",
    "\n",
    "    # Check if the file exists\n",
    "    if not os.path.exists(file):\n",
    "        raise FileNotFoundError(f\"Configuration file not found: {file}\")\n",
    "\n",
    "    # Parse the configuration file\n",
    "    config = configparser.ConfigParser()\n",
    "    try:\n",
    "        config.read(file)\n",
    "    except Exception as e:\n",
    "        raise Exception(f\"Configuration file error: {e}\")\n",
    "\n",
    "    # Get database connection properties\n",
    "    conn_properties = config['DEFAULT']\n",
    "    dbname = conn_properties.get('dbname')\n",
    "    host = conn_properties.get('host')\n",
    "    port = conn_properties.get('port')\n",
    "    if not dbname or not host or not port:\n",
    "        raise Exception(\"Missing required properties\")\n",
    "        \n",
    "    # Get username and password    \n",
    "    user = input('User name: ')\n",
    "    password = getpass.getpass('Password: ')\n",
    "    \n",
    "    return dbname, host, port, user, password\n",
    "\n",
    "dbname, host, port, user, password = get_config_data()\n",
    "conn = psycopg2.connect(dbname=dbname, host=host, port=port, user=user, password=password)    \n",
    "cur = conn.cursor()\n"
   ]
  },
  {
   "cell_type": "code",
   "execution_count": null,
   "id": "798695fd-c57f-488f-937a-76ba4df57767",
   "metadata": {},
   "outputs": [],
   "source": [
    "#conn.rollback()"
   ]
  },
  {
   "cell_type": "code",
   "execution_count": null,
   "id": "7e4a15f3-37e7-454d-821f-bcb024fde3c9",
   "metadata": {},
   "outputs": [],
   "source": [
    "# List soil moisture calval sites\n",
    "\n",
    "# Get column names\n",
    "schema_name = 'soil_moisture'\n",
    "table_name = 'site'\n",
    "query = \"SELECT column_name FROM information_schema.columns WHERE table_schema = %(schema_name)s AND table_name = %(table_name)s;\"\n",
    "cur.execute(query, {'schema_name': schema_name, 'table_name': table_name})\n",
    "type_cols = cur.fetchall()\n",
    "type_cols = [k[0] for k in type_cols]\n",
    "\n",
    "# Get types table in Pandas DataFrame\n",
    "query = \"SELECT * FROM soil_moisture.site ORDER BY site_id;\"\n",
    "cur.execute(query);\n",
    "sites = pd.DataFrame(cur.fetchall(), columns=type_cols)\n",
    "sites.head()"
   ]
  },
  {
   "cell_type": "code",
   "execution_count": null,
   "id": "c972e02d-ba76-4571-ad40-a7d4e0df9116",
   "metadata": {},
   "outputs": [],
   "source": [
    "# List soil moisture sensors\n",
    "\n",
    "# Get column names\n",
    "schema_name = 'soil_moisture'\n",
    "table_name = 'sensor'\n",
    "query = \"SELECT column_name FROM information_schema.columns WHERE table_schema = %(schema_name)s AND table_name = %(table_name)s;\"\n",
    "cur.execute(query, {'schema_name': schema_name, 'table_name': table_name})\n",
    "type_cols = cur.fetchall()\n",
    "type_cols = [k[0] for k in type_cols]\n",
    "\n",
    "# Get types table in Pandas DataFrame\n",
    "query = \"SELECT * FROM soil_moisture.sensor ORDER BY sensor_id;\"\n",
    "cur.execute(query);\n",
    "sensors = pd.DataFrame(cur.fetchall(), columns=type_cols)\n",
    "sensors\n"
   ]
  },
  {
   "cell_type": "code",
   "execution_count": null,
   "id": "7eb879c3-2c38-4640-98eb-8f46f2902afb",
   "metadata": {},
   "outputs": [],
   "source": [
    "# Assign sensor_id to new_measurements\n",
    "new_measurements['sensor_id'] = 1\n",
    "new_measurements.head()"
   ]
  },
  {
   "cell_type": "code",
   "execution_count": null,
   "id": "b28530f0-6aee-4a35-9920-82d03f1001b3",
   "metadata": {},
   "outputs": [],
   "source": [
    "#conn.rollback()"
   ]
  },
  {
   "cell_type": "code",
   "execution_count": null,
   "id": "3f804c91-befe-46f7-87e0-98e1721f6eec",
   "metadata": {},
   "outputs": [],
   "source": [
    "# List existing soil moisture measurements in database and get last measurement_id\n",
    "\n",
    "# Get column names\n",
    "schema_name = 'soil_moisture'\n",
    "table_name = 'measurement'\n",
    "query = \"SELECT column_name FROM information_schema.columns WHERE table_schema = %(schema_name)s AND table_name = %(table_name)s;\"\n",
    "cur.execute(query, {'schema_name': schema_name, 'table_name': table_name})\n",
    "type_cols = cur.fetchall()\n",
    "type_cols = [k[0] for k in type_cols]\n",
    "\n",
    "query = \"SELECT * FROM soil_moisture.measurement ORDER BY measurement_id DESC LIMIT 1;\"\n",
    "cur.execute(query);\n",
    "measurements = pd.DataFrame(cur.fetchall(), columns=type_cols)\n",
    "measurements\n"
   ]
  },
  {
   "cell_type": "code",
   "execution_count": null,
   "id": "13ff0507-f28c-4155-9ea0-2f25782f7b08",
   "metadata": {},
   "outputs": [],
   "source": [
    "# Rename columns to match column names in database\n",
    "col_map = {'Timestamp': 'datetime_utc', \n",
    "           'Payload Data_battery voltage (V)': 'battery_voltage_v',\n",
    "           'Payload Data_soil moisture (%)': 'soil_moisture_pct',\n",
    "           'Payload Data_soil temperature (C)': 'soil_temperature_c',\n",
    "           'Payload Data_soil temperature (F)': 'soil_temperature_f',\n",
    "           'Payload Data_soil conductivity (uS/cm)': 'soil_conductivity_us_cm'}\n",
    "new_measurements = new_measurements.rename(columns = col_map)\n",
    "new_measurements.head()"
   ]
  },
  {
   "cell_type": "code",
   "execution_count": null,
   "id": "72bcc6eb-da7c-4826-8f97-de75d2ade3c0",
   "metadata": {},
   "outputs": [],
   "source": [
    "# Create new dataframe that exactly matches the measurement table in the database to prepare for uploading\n",
    "\n",
    "df = new_measurements[['sensor_id','datetime_utc','soil_moisture_pct','soil_conductivity_us_cm','soil_temperature_c','soil_temperature_f','battery_voltage_v']]\n",
    "df = df.sort_values(by=\"datetime_utc\")\n",
    "df"
   ]
  },
  {
   "cell_type": "code",
   "execution_count": null,
   "id": "961e45b7-354b-4414-aa63-3f38665134b4",
   "metadata": {},
   "outputs": [],
   "source": [
    "# # Ensure new data to be uploaded has not already been uploaded to the database by comparing measurement_ids from the csv\n",
    "# # and the database\n",
    "\n",
    "# last_old_meas_id = M['measurement_id'][0]    # the last (most recent) measurement_id from the calval database\n",
    "# first_new_meas_id = df['measurement_id'][0]  # the first measurement_id from the new dataset / csv\n",
    "# print(last_old_meas_id, first_new_meas_id)\n",
    "\n",
    "# # if measurement_id already exists in database, subset the new dataframe to include \n",
    "# # only those measurement ids that have not yet been uploaded to the database\n",
    "# if first_new_meas_id <= last_old_meas_id:\n",
    "#     print('Measurement ID ' + str(first_new_meas_id) + ' already exists in database. Subsetting dataframe.')\n",
    "#     next_meas_id = last_old_meas_id + 1\n",
    "#     df = df.loc[df['measurement_id'] >= next_meas_id]\n",
    "# else:\n",
    "#     print('Measurement ID ' + str(first_new_meas_id) + ' does not alreay exist in database. Okay to proceed.')"
   ]
  },
  {
   "cell_type": "code",
   "execution_count": null,
   "id": "06d465ec-f43c-4af5-ad01-f765b8fc7d2c",
   "metadata": {
    "tags": []
   },
   "outputs": [],
   "source": [
    "# If a query results in an error, roll the cursor back to the last transaction with:\n",
    "#conn.rollback()"
   ]
  },
  {
   "cell_type": "markdown",
   "id": "95961ba5-f611-49b5-9834-9c4bab71eff8",
   "metadata": {},
   "source": [
    "### For this section, the column names in the dataframe must be the same as the column names in the database table.\n"
   ]
  },
  {
   "cell_type": "code",
   "execution_count": null,
   "id": "294a153b-3231-46ad-801c-8ae4e9ed3c59",
   "metadata": {},
   "outputs": [],
   "source": [
    "measurements.tail()"
   ]
  },
  {
   "cell_type": "code",
   "execution_count": null,
   "id": "239a44f2-c66e-40d3-bc18-3b7a06b22406",
   "metadata": {},
   "outputs": [],
   "source": [
    "df.head()"
   ]
  },
  {
   "cell_type": "code",
   "execution_count": null,
   "id": "ecc47903-7dc8-4822-8229-c09b0b389010",
   "metadata": {},
   "outputs": [],
   "source": [
    "#conn.rollback()"
   ]
  },
  {
   "cell_type": "code",
   "execution_count": null,
   "id": "5096e280-17bf-4481-9d4f-d5356aa9ab2c",
   "metadata": {
    "tags": []
   },
   "outputs": [],
   "source": [
    "# StringIO() is an in-memory stream for text that gives you file-like access to strings.\n",
    "sio = StringIO()\n",
    "writer = csv.writer(sio)\n",
    "writer.writerows(df.values)\n",
    "\n",
    "# set the stream position\n",
    "sio.seek(0)\n",
    "\n",
    "# Insert dataframe into table\n",
    "start_time = time.time() \n",
    "\n",
    "sql_query = \"\"\"COPY soil_moisture.measurement (sensor_id, datetime_utc, soil_moisture_pct, soil_conductivity_us_cm, soil_temperature_c, soil_temperature_f, battery_voltage_v) \n",
    "            FROM STDIN WITH CSV\"\"\"\n",
    "cur.copy_expert(sql=sql_query, file=sio)\n",
    "conn.commit()\n",
    "\n",
    "end_time = time.time() \n",
    "total_time = end_time - start_time \n",
    "print(f\"Insert time: {total_time} seconds\") "
   ]
  },
  {
   "cell_type": "code",
   "execution_count": null,
   "id": "24ea4c2a-2596-4235-b6f8-277b86619a77",
   "metadata": {
    "tags": []
   },
   "outputs": [],
   "source": [
    "# Close the cursor and connection to the database\n",
    "\n",
    "cur.close()\n",
    "conn.close()"
   ]
  }
 ],
 "metadata": {
  "kernelspec": {
   "display_name": "base",
   "language": "python",
   "name": "base"
  },
  "language_info": {
   "codemirror_mode": {
    "name": "ipython",
    "version": 3
   },
   "file_extension": ".py",
   "mimetype": "text/x-python",
   "name": "python",
   "nbconvert_exporter": "python",
   "pygments_lexer": "ipython3",
   "version": "3.12.2"
  }
 },
 "nbformat": 4,
 "nbformat_minor": 5
}
